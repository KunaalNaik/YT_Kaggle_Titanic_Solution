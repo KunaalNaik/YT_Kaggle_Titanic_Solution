{
 "cells": [
  {
   "cell_type": "markdown",
   "metadata": {},
   "source": [
    "- https://www.kaggle.com/cdeotte/titanic-wcg-xgboost-0-84688"
   ]
  },
  {
   "cell_type": "code",
   "execution_count": 1,
   "metadata": {},
   "outputs": [],
   "source": [
    "import pandas as pd"
   ]
  },
  {
   "cell_type": "code",
   "execution_count": 83,
   "metadata": {},
   "outputs": [],
   "source": [
    "train = pd.read_csv('train_WCG_XGB.csv')\n",
    "test = pd.read_csv('test_WCG_XGB.csv')"
   ]
  },
  {
   "cell_type": "markdown",
   "metadata": {},
   "source": [
    "## Missing Value and Groups"
   ]
  },
  {
   "cell_type": "code",
   "execution_count": 7,
   "metadata": {},
   "outputs": [],
   "source": [
    "all['Title'] = 'Man'"
   ]
  },
  {
   "cell_type": "code",
   "execution_count": 79,
   "metadata": {},
   "outputs": [],
   "source": [
    "def extract_boy(x):\n",
    "    Boy_Title = \"Master\"\n",
    "    if x.find(Boy_Title) != -1:\n",
    "        return \"Boy\"\n",
    "    else:\n",
    "        return \"Man\""
   ]
  },
  {
   "cell_type": "code",
   "execution_count": 84,
   "metadata": {},
   "outputs": [],
   "source": [
    "#all['Title'] = all['Name'].apply(extract_boy(x))"
   ]
  },
  {
   "cell_type": "code",
   "execution_count": 85,
   "metadata": {},
   "outputs": [],
   "source": [
    "#all['Title'] = all['Sex'].apply(lambda x: \"Women\" if x == \"female\")"
   ]
  },
  {
   "cell_type": "code",
   "execution_count": 74,
   "metadata": {},
   "outputs": [
    {
     "data": {
      "text/plain": [
       "Man    1248\n",
       "Boy      61\n",
       "Name: Title, dtype: int64"
      ]
     },
     "execution_count": 74,
     "metadata": {},
     "output_type": "execute_result"
    }
   ],
   "source": [
    "all['Title'].value_counts()"
   ]
  },
  {
   "cell_type": "code",
   "execution_count": 62,
   "metadata": {},
   "outputs": [],
   "source": [
    "all['Age'] = all['Age'].fillna(all['Age'].median())\n",
    "all['Fare'] = all['Fare'].fillna(all['Fare'].median())"
   ]
  },
  {
   "cell_type": "markdown",
   "metadata": {},
   "source": [
    "### Divide Categorical and Numerical Features"
   ]
  },
  {
   "cell_type": "code",
   "execution_count": 86,
   "metadata": {},
   "outputs": [],
   "source": [
    "#create X and y datasets for splitting \n",
    "X = train.drop(['Survived', 'PassengerId'], axis=1)\n",
    "y = train['Survived']"
   ]
  },
  {
   "cell_type": "markdown",
   "metadata": {},
   "source": [
    "## XGB"
   ]
  },
  {
   "cell_type": "code",
   "execution_count": 87,
   "metadata": {},
   "outputs": [],
   "source": [
    "from xgboost import XGBClassifier\n",
    "from sklearn.metrics import accuracy_score"
   ]
  },
  {
   "cell_type": "code",
   "execution_count": 98,
   "metadata": {},
   "outputs": [],
   "source": [
    "param = {'objective'   : \"binary:logistic\",\n",
    "            'eval_metric' : \"error\",\n",
    "            'max_depth'   : 5,\n",
    "            'eta'         : 0.1,\n",
    "            'gammma'      : 0.1,\n",
    "            'colsample_bytree' : 1,\n",
    "            'min_child_weight' : 1}"
   ]
  },
  {
   "cell_type": "code",
   "execution_count": 105,
   "metadata": {},
   "outputs": [],
   "source": [
    "model = XGBClassifier(params  = param,\n",
    "            data    = X,\n",
    "            label   = y, \n",
    "            nrounds = 500,\n",
    "            print_every_n = 100,\n",
    "            verbose = 1)"
   ]
  },
  {
   "cell_type": "code",
   "execution_count": 106,
   "metadata": {},
   "outputs": [
    {
     "data": {
      "text/plain": [
       "XGBClassifier(data=           X1        X2\n",
       "0    0.725000  2.314286\n",
       "1    3.564165  2.542857\n",
       "2    0.792500  1.371429\n",
       "3    2.655000  2.500000\n",
       "4    0.805000  1.500000\n",
       "..        ...       ...\n",
       "886  1.300000  1.385714\n",
       "887  3.000000  1.271429\n",
       "888  0.586250  4.426873\n",
       "889  3.000000  1.371429\n",
       "890  0.775000  1.457143\n",
       "\n",
       "[891 rows x 2 columns],\n",
       "              label=0      0\n",
       "1      1\n",
       "2      1\n",
       "3      1\n",
       "4      0\n",
       "      ..\n",
       "886    0\n",
       "887    1\n",
       "888    0\n",
       "889    1\n",
       "890    0\n",
       "Name: Survived, Length: 891, dtype: int64,\n",
       "              nrounds=500,\n",
       "              params={'colsample_bytree': 1, 'eta': 0.1, 'eval_metric': 'error',\n",
       "                      'gammma': 0.1, 'max_depth': 5, 'min_child_weight': 1,\n",
       "                      'objective': 'binary:logistic'},\n",
       "              print_every_n=100, verbose=1)"
      ]
     },
     "execution_count": 106,
     "metadata": {},
     "output_type": "execute_result"
    }
   ],
   "source": [
    "model.fit(X,y)"
   ]
  },
  {
   "cell_type": "code",
   "execution_count": 107,
   "metadata": {},
   "outputs": [
    {
     "name": "stdout",
     "output_type": "stream",
     "text": [
      "Train : 0.770\n"
     ]
    }
   ],
   "source": [
    "print(f'Train : {model.score(X, y):.3f}')\n",
    "#print(f'Test : {model.score(X, y):.3f}')"
   ]
  },
  {
   "cell_type": "markdown",
   "metadata": {},
   "source": [
    "### Prediction of Test"
   ]
  },
  {
   "cell_type": "code",
   "execution_count": 108,
   "metadata": {},
   "outputs": [],
   "source": [
    "sub_test = test.drop(['PassengerId'], axis = 1)"
   ]
  },
  {
   "cell_type": "code",
   "execution_count": 111,
   "metadata": {},
   "outputs": [],
   "source": [
    "sub_test_pred = model.predict_proba(sub_test) #.astype(int)"
   ]
  },
  {
   "cell_type": "code",
   "execution_count": 110,
   "metadata": {},
   "outputs": [],
   "source": [
    "AllSub = pd.DataFrame({ 'PassengerId': test['PassengerId'],\n",
    "                       'Survived' : sub_test_pred\n",
    "    \n",
    "})"
   ]
  },
  {
   "cell_type": "code",
   "execution_count": 113,
   "metadata": {},
   "outputs": [],
   "source": [
    "AllSub['Survived'] = AllSub['Survived'].apply(lambda x: 0 if x < 0.08 else 1)"
   ]
  },
  {
   "cell_type": "code",
   "execution_count": 114,
   "metadata": {},
   "outputs": [],
   "source": [
    "AllSub.to_csv(\"Solution_WCG_XGBF.csv\", index = False)"
   ]
  },
  {
   "cell_type": "code",
   "execution_count": 48,
   "metadata": {},
   "outputs": [],
   "source": [
    "#Kaggle LB Score - 0.77033"
   ]
  }
 ],
 "metadata": {
  "kernelspec": {
   "display_name": "Python 3",
   "language": "python",
   "name": "python3"
  },
  "language_info": {
   "codemirror_mode": {
    "name": "ipython",
    "version": 3
   },
   "file_extension": ".py",
   "mimetype": "text/x-python",
   "name": "python",
   "nbconvert_exporter": "python",
   "pygments_lexer": "ipython3",
   "version": "3.7.6"
  }
 },
 "nbformat": 4,
 "nbformat_minor": 2
}
